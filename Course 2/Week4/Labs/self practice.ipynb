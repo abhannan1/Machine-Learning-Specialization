{
 "cells": [
  {
   "cell_type": "code",
   "execution_count": 3,
   "id": "4dc2034c",
   "metadata": {},
   "outputs": [],
   "source": [
    "import numpy as np"
   ]
  },
  {
   "cell_type": "code",
   "execution_count": 4,
   "id": "1a4a8674",
   "metadata": {},
   "outputs": [],
   "source": [
    "def entropy (p):\n",
    "    if (p == 0 or p==1):\n",
    "        return 0\n",
    "    else:\n",
    "        ent = -p*np.log2(p) - (1-p)*np.log2(1-p)\n",
    "    return ent"
   ]
  },
  {
   "cell_type": "code",
   "execution_count": 5,
   "id": "0c1cb0dc",
   "metadata": {},
   "outputs": [],
   "source": [
    "X_train = np.array([[1, 1, 1],\n",
    "[0, 0, 1],\n",
    " [0, 1, 0],\n",
    " [1, 0, 1],\n",
    " [1, 1, 1],\n",
    " [1, 1, 0],\n",
    " [0, 0, 0],\n",
    " [1, 1, 0],\n",
    " [0, 1, 0],\n",
    " [0, 1, 0]])\n",
    "\n",
    "y_train = np.array([1, 1, 0, 0, 1, 1, 0, 1, 0, 0])"
   ]
  },
  {
   "cell_type": "code",
   "execution_count": 11,
   "id": "b1f1ecff",
   "metadata": {},
   "outputs": [],
   "source": [
    "def split_indices(X, feature_index):\n",
    "    left_indices = []\n",
    "    right_indices = []\n",
    "    for i,x in enumerate(X):\n",
    "        if x[feature_index] == 1 :\n",
    "            left_indices.append(i)\n",
    "        else:\n",
    "            right_indices.append(i)\n",
    "    return left_indices , right_indices"
   ]
  },
  {
   "cell_type": "code",
   "execution_count": 13,
   "id": "1aeb49e5",
   "metadata": {},
   "outputs": [
    {
     "data": {
      "text/plain": [
       "([0, 3, 4, 5, 7], [1, 2, 6, 8, 9])"
      ]
     },
     "execution_count": 13,
     "metadata": {},
     "output_type": "execute_result"
    }
   ],
   "source": [
    "split_indices(X_train, 0)"
   ]
  },
  {
   "cell_type": "code",
   "execution_count": 10,
   "id": "75849329",
   "metadata": {},
   "outputs": [],
   "source": [
    "def weighted_entropy(X,y, left_indices, right_indices):\n",
    "    \n",
    "    w_left = len(left_indices)/ len(X)\n",
    "    w_right = len(right_indices)/ len(X)\n",
    "    p_left = sum(y[left_indices])/ len(left_indices)\n",
    "    p_right = sum(y[right_indices]) / len(right_indices)\n",
    "    \n",
    "    return w_left * entropy(p_left) + w_right * entropy(p_right)"
   ]
  },
  {
   "cell_type": "code",
   "execution_count": 14,
   "id": "740ab2ef",
   "metadata": {},
   "outputs": [],
   "source": [
    "left_indices, right_indices = split_indices(X_train, 0)\n",
    "w_entropy = weighted_entropy(X_train, y_train, left_indices, right_indices)"
   ]
  },
  {
   "cell_type": "code",
   "execution_count": 15,
   "id": "658917d2",
   "metadata": {},
   "outputs": [
    {
     "data": {
      "text/plain": [
       "0.7219280948873623"
      ]
     },
     "execution_count": 15,
     "metadata": {},
     "output_type": "execute_result"
    }
   ],
   "source": [
    "w_entropy"
   ]
  },
  {
   "cell_type": "code",
   "execution_count": 18,
   "id": "b8f71cf5",
   "metadata": {},
   "outputs": [],
   "source": [
    "def information_gain (X,y,left_indices,right_indices):\n",
    "    p_node = sum(y)/len(y)\n",
    "    h_entropy = entropy(p_node)\n",
    "    \n",
    "    return h_entropy - weighted_entropy(X,y,left_indices,right_indices)"
   ]
  },
  {
   "cell_type": "code",
   "execution_count": 19,
   "id": "5552896c",
   "metadata": {},
   "outputs": [
    {
     "data": {
      "text/plain": [
       "0.2780719051126377"
      ]
     },
     "execution_count": 19,
     "metadata": {},
     "output_type": "execute_result"
    }
   ],
   "source": [
    "information_gain(X_train,y_train,left_indices,right_indices)"
   ]
  },
  {
   "cell_type": "code",
   "execution_count": 23,
   "id": "caed006b",
   "metadata": {},
   "outputs": [
    {
     "name": "stdout",
     "output_type": "stream",
     "text": [
      "information_gain of ear_shape is 0.28\n",
      "information_gain of face_shape is 0.03\n",
      "information_gain of whiskers is 0.12\n"
     ]
    }
   ],
   "source": [
    "features = [\"ear_shape\", \"face_shape\", \"whiskers\"]\n",
    "\n",
    "for i in range (len(features)):\n",
    "    left_indices, right_indices = split_indices(X_train, i)\n",
    "    i_gain = information_gain(X_train,y_train,left_indices,right_indices)\n",
    "    print (f\"information_gain of {features[i]} is {i_gain:0.2f}\")"
   ]
  },
  {
   "cell_type": "code",
   "execution_count": null,
   "id": "67c0b8b5",
   "metadata": {},
   "outputs": [],
   "source": []
  }
 ],
 "metadata": {
  "kernelspec": {
   "display_name": "Python 3 (ipykernel)",
   "language": "python",
   "name": "python3"
  },
  "language_info": {
   "codemirror_mode": {
    "name": "ipython",
    "version": 3
   },
   "file_extension": ".py",
   "mimetype": "text/x-python",
   "name": "python",
   "nbconvert_exporter": "python",
   "pygments_lexer": "ipython3",
   "version": "3.11.5"
  }
 },
 "nbformat": 4,
 "nbformat_minor": 5
}
