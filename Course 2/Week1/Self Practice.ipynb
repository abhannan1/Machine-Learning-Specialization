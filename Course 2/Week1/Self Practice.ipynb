{
 "cells": [
  {
   "cell_type": "code",
   "execution_count": 4,
   "id": "98379fe3",
   "metadata": {},
   "outputs": [],
   "source": [
    "import tensorflow as tf\n",
    "from tensorflow.keras.layers import Input ,Dense\n",
    "from tensorflow.keras import Sequential\n",
    "from tensorflow.keras.losses import MeanSquaredError, BinaryCrossentropy\n",
    "from tensorflow.keras.activations import sigmoid\n",
    "import logging"
   ]
  },
  {
   "cell_type": "code",
   "execution_count": 6,
   "id": "6a955f57",
   "metadata": {},
   "outputs": [],
   "source": [
    "import numpy as np"
   ]
  },
  {
   "cell_type": "code",
   "execution_count": 44,
   "id": "3286550f",
   "metadata": {},
   "outputs": [],
   "source": [
    "X_train = np.array([[1.0, 2.0]], dtype=np.float32)           #(size in 1000 square feet)\n",
    "Y_train = np.array([[300.0], [500.0]], dtype=np.float32)       #(price in 1000s of dollars)"
   ]
  },
  {
   "cell_type": "code",
   "execution_count": 45,
   "id": "2e3043d2",
   "metadata": {},
   "outputs": [
    {
     "data": {
      "text/plain": [
       "array([[1., 2.]], dtype=float32)"
      ]
     },
     "execution_count": 45,
     "metadata": {},
     "output_type": "execute_result"
    }
   ],
   "source": [
    "X_train"
   ]
  },
  {
   "cell_type": "code",
   "execution_count": 46,
   "id": "0f9a0ca3",
   "metadata": {},
   "outputs": [],
   "source": [
    "linear_layer = tf.keras.layers.Dense(units=1, activation=\"linear\") "
   ]
  },
  {
   "cell_type": "code",
   "execution_count": 47,
   "id": "c4e980bc",
   "metadata": {},
   "outputs": [],
   "source": [
    "a1 = linear_layer(X_train)"
   ]
  },
  {
   "cell_type": "code",
   "execution_count": 48,
   "id": "225339cc",
   "metadata": {},
   "outputs": [
    {
     "data": {
      "text/plain": [
       "<tf.Tensor: shape=(1, 1), dtype=float32, numpy=array([[-2.9944658]], dtype=float32)>"
      ]
     },
     "execution_count": 48,
     "metadata": {},
     "output_type": "execute_result"
    }
   ],
   "source": [
    "a1"
   ]
  },
  {
   "cell_type": "code",
   "execution_count": 1,
   "id": "6840009e",
   "metadata": {},
   "outputs": [],
   "source": [
    "import numpy as np\n",
    "import matplotlib.pyplot as plt\n",
    "plt.style.use('./deeplearning.mplstyle')\n",
    "import tensorflow as tf\n",
    "from tensorflow.keras.models import Sequential\n",
    "from tensorflow.keras.layers import Dense\n",
    "from lab_utils_common import dlc\n",
    "from lab_coffee_utils import load_coffee_data, plt_roast, plt_prob, plt_layer, plt_network, plt_output_unit\n",
    "import logging\n",
    "logging.getLogger(\"tensorflow\").setLevel(logging.ERROR)\n",
    "tf.autograph.set_verbosity(0)"
   ]
  },
  {
   "cell_type": "code",
   "execution_count": 51,
   "id": "704e4266",
   "metadata": {},
   "outputs": [
    {
     "name": "stdout",
     "output_type": "stream",
     "text": [
      "(200, 2) (200, 1)\n"
     ]
    }
   ],
   "source": [
    "X, Y = load_coffee_data()\n",
    "\n",
    "print (X.shape, Y.shape)"
   ]
  },
  {
   "cell_type": "code",
   "execution_count": 52,
   "id": "d93eed66",
   "metadata": {},
   "outputs": [],
   "source": [
    "x_norm = tf.keras.layers.Normalization(axis=1)\n",
    "x_norm.adapt(X)\n",
    "Xn = x_norm(X)"
   ]
  },
  {
   "cell_type": "code",
   "execution_count": 54,
   "id": "733ab105",
   "metadata": {},
   "outputs": [
    {
     "name": "stdout",
     "output_type": "stream",
     "text": [
      "(200000, 2) (200000, 1)\n"
     ]
    }
   ],
   "source": [
    "Xt = np.tile(Xn,(1000,1))\n",
    "Yt = np.tile(Y,(1000,1))\n",
    "\n",
    "print(Xt.shape, Yt.shape)"
   ]
  },
  {
   "cell_type": "code",
   "execution_count": 55,
   "id": "e7651a32",
   "metadata": {},
   "outputs": [],
   "source": [
    "tf.random.set_seed(23534)\n",
    "model = Sequential([\n",
    "    tf.keras.Input(shape=(2,)),\n",
    "    tf.keras.layers.Dense(3, activation=\"sigmoid\", name=\"layer1\"),\n",
    "    tf.keras.layers.Dense(1, activation=\"sigmoid\", name=\"layer2\")\n",
    "])"
   ]
  },
  {
   "cell_type": "code",
   "execution_count": 56,
   "id": "09506883",
   "metadata": {},
   "outputs": [
    {
     "name": "stdout",
     "output_type": "stream",
     "text": [
      "Model: \"sequential_2\"\n",
      "_________________________________________________________________\n",
      " Layer (type)                Output Shape              Param #   \n",
      "=================================================================\n",
      " layer1 (Dense)              (None, 3)                 9         \n",
      "                                                                 \n",
      " layer2 (Dense)              (None, 1)                 4         \n",
      "                                                                 \n",
      "=================================================================\n",
      "Total params: 13 (52.00 Byte)\n",
      "Trainable params: 13 (52.00 Byte)\n",
      "Non-trainable params: 0 (0.00 Byte)\n",
      "_________________________________________________________________\n"
     ]
    }
   ],
   "source": [
    "model.summary()"
   ]
  },
  {
   "cell_type": "code",
   "execution_count": 57,
   "id": "1f6bcc92",
   "metadata": {},
   "outputs": [
    {
     "data": {
      "text/plain": [
       "[array([[ 1.07,  0.02, -0.72],\n",
       "        [-0.97, -1.07, -0.38]], dtype=float32),\n",
       " array([0., 0., 0.], dtype=float32)]"
      ]
     },
     "execution_count": 57,
     "metadata": {},
     "output_type": "execute_result"
    }
   ],
   "source": [
    "model.get_layer(\"layer1\").get_weights()"
   ]
  },
  {
   "cell_type": "code",
   "execution_count": 58,
   "id": "401983e8",
   "metadata": {},
   "outputs": [],
   "source": [
    "model.compile(\n",
    "    loss= tf.keras.losses.BinaryCrossentropy(),\n",
    "    optimizer=tf.keras.optimizers.Adam(learning_rate=0.01)\n",
    ")"
   ]
  },
  {
   "cell_type": "code",
   "execution_count": 59,
   "id": "7666399f",
   "metadata": {},
   "outputs": [
    {
     "name": "stdout",
     "output_type": "stream",
     "text": [
      "Epoch 1/10\n",
      "6250/6250 [==============================] - 17s 3ms/step - loss: 0.1791\n",
      "Epoch 2/10\n",
      "6250/6250 [==============================] - 17s 3ms/step - loss: 0.1267\n",
      "Epoch 3/10\n",
      "6250/6250 [==============================] - 17s 3ms/step - loss: 0.1025\n",
      "Epoch 4/10\n",
      "6250/6250 [==============================] - 17s 3ms/step - loss: 0.0258\n",
      "Epoch 5/10\n",
      "6250/6250 [==============================] - 17s 3ms/step - loss: 0.0147\n",
      "Epoch 6/10\n",
      "6250/6250 [==============================] - 17s 3ms/step - loss: 0.0102\n",
      "Epoch 7/10\n",
      "6250/6250 [==============================] - 18s 3ms/step - loss: 0.0073\n",
      "Epoch 8/10\n",
      "6250/6250 [==============================] - 18s 3ms/step - loss: 0.0054\n",
      "Epoch 9/10\n",
      "6250/6250 [==============================] - 18s 3ms/step - loss: 0.0039\n",
      "Epoch 10/10\n",
      "6250/6250 [==============================] - 18s 3ms/step - loss: 0.0029\n"
     ]
    },
    {
     "data": {
      "text/plain": [
       "<keras.src.callbacks.History at 0x21955dcead0>"
      ]
     },
     "execution_count": 59,
     "metadata": {},
     "output_type": "execute_result"
    }
   ],
   "source": [
    "model.fit(Xt,Yt, epochs=10)"
   ]
  },
  {
   "cell_type": "code",
   "execution_count": 62,
   "id": "ad5ebd22",
   "metadata": {},
   "outputs": [],
   "source": [
    "X,Y = load_coffee_data()"
   ]
  },
  {
   "cell_type": "code",
   "execution_count": 64,
   "id": "0948e0a4",
   "metadata": {},
   "outputs": [],
   "source": [
    "norm_1 = tf.keras.layers.Normalization(axis=1)\n",
    "norm_1.adapt(X)\n",
    "Xn = norm_1(X)"
   ]
  },
  {
   "cell_type": "code",
   "execution_count": 66,
   "id": "36a419b2",
   "metadata": {},
   "outputs": [],
   "source": [
    "from tensorflow.keras.activations import sigmoid"
   ]
  },
  {
   "cell_type": "code",
   "execution_count": 68,
   "id": "36ad9cc7",
   "metadata": {},
   "outputs": [],
   "source": [
    "g = sigmoid"
   ]
  },
  {
   "cell_type": "code",
   "execution_count": 71,
   "id": "4abbea0d",
   "metadata": {},
   "outputs": [],
   "source": [
    "def dense (a_in, W, b):\n",
    "    \n",
    "    units = W.shape[1]\n",
    "    a_out = np.zeros_like(units)\n",
    "    for j in range(units):\n",
    "        w = W[:,i]\n",
    "        z = np.matmul(w ,a_in) + b[j]\n",
    "        a_out[j] = g(z)\n",
    "    return a_out"
   ]
  },
  {
   "cell_type": "code",
   "execution_count": null,
   "id": "9fbfaefe",
   "metadata": {},
   "outputs": [],
   "source": [
    "def sequential ():\n",
    "    \n",
    "    for i in range"
   ]
  },
  {
   "cell_type": "code",
   "execution_count": 1,
   "id": "f3110003",
   "metadata": {},
   "outputs": [
    {
     "name": "stdout",
     "output_type": "stream",
     "text": [
      "1\n",
      "2\n",
      "3\n",
      "4\n",
      "5\n",
      "6\n",
      "7\n",
      "8\n",
      "9\n"
     ]
    }
   ],
   "source": [
    "import numpy as np\n",
    "\n",
    "# Create a sample 2D array\n",
    "array_2d = np.array([[1, 2, 3], [4, 5, 6], [7, 8, 9]])\n",
    "\n",
    "# Iterate through all elements in a flattened manner\n",
    "for element in array_2d.flat:\n",
    "    print(element)\n"
   ]
  },
  {
   "cell_type": "code",
   "execution_count": null,
   "id": "1bf8e3be",
   "metadata": {},
   "outputs": [],
   "source": []
  }
 ],
 "metadata": {
  "kernelspec": {
   "display_name": "Python 3 (ipykernel)",
   "language": "python",
   "name": "python3"
  },
  "language_info": {
   "codemirror_mode": {
    "name": "ipython",
    "version": 3
   },
   "file_extension": ".py",
   "mimetype": "text/x-python",
   "name": "python",
   "nbconvert_exporter": "python",
   "pygments_lexer": "ipython3",
   "version": "3.11.3"
  }
 },
 "nbformat": 4,
 "nbformat_minor": 5
}
