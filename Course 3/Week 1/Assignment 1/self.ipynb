{
 "cells": [
  {
   "cell_type": "code",
   "execution_count": 1,
   "id": "d1d43126",
   "metadata": {},
   "outputs": [
    {
     "ename": "NameError",
     "evalue": "name 'idx' is not defined",
     "output_type": "error",
     "traceback": [
      "\u001b[1;31m---------------------------------------------------------------------------\u001b[0m",
      "\u001b[1;31mNameError\u001b[0m                                 Traceback (most recent call last)",
      "Cell \u001b[1;32mIn[1], line 1\u001b[0m\n\u001b[1;32m----> 1\u001b[0m \u001b[38;5;28;01mfor\u001b[39;00m i \u001b[38;5;129;01min\u001b[39;00m \u001b[38;5;28mrange\u001b[39m(\u001b[38;5;28mlen\u001b[39m(idx)):\n\u001b[0;32m      2\u001b[0m \u001b[38;5;66;03m#         min_dist = float('inf')\u001b[39;00m\n\u001b[0;32m      3\u001b[0m     distance \u001b[38;5;241m=\u001b[39m []\n\u001b[0;32m      4\u001b[0m     \u001b[38;5;28;01mfor\u001b[39;00m m \u001b[38;5;129;01min\u001b[39;00m \u001b[38;5;28mrange\u001b[39m(K):\n\u001b[0;32m      5\u001b[0m \u001b[38;5;66;03m#             norm_ij = np.subtract(X[i], centroids[m]) #diff of the two vectors (distance vector btw point and centroid)\u001b[39;00m\n\u001b[0;32m      6\u001b[0m \u001b[38;5;66;03m#             norm_ij = (norm_ij[0]**2 + norm_ij[1]**2)**(1/2) #magnitute of norm_ij (dist) or (length of resultant vec btw point)\u001b[39;00m\n\u001b[0;32m      7\u001b[0m \u001b[38;5;66;03m#             if norm_ij < min_dist:\u001b[39;00m\n\u001b[0;32m      8\u001b[0m \u001b[38;5;66;03m#                 min_dist = norm_ij\u001b[39;00m\n\u001b[0;32m      9\u001b[0m \u001b[38;5;66;03m#                 idx[i] = m\u001b[39;00m\n",
      "\u001b[1;31mNameError\u001b[0m: name 'idx' is not defined"
     ]
    }
   ],
   "source": [
    "\n",
    "            \n",
    "            "
   ]
  },
  {
   "cell_type": "code",
   "execution_count": null,
   "id": "a15278b6",
   "metadata": {},
   "outputs": [],
   "source": []
  }
 ],
 "metadata": {
  "kernelspec": {
   "display_name": "Python 3 (ipykernel)",
   "language": "python",
   "name": "python3"
  },
  "language_info": {
   "codemirror_mode": {
    "name": "ipython",
    "version": 3
   },
   "file_extension": ".py",
   "mimetype": "text/x-python",
   "name": "python",
   "nbconvert_exporter": "python",
   "pygments_lexer": "ipython3",
   "version": "3.11.5"
  }
 },
 "nbformat": 4,
 "nbformat_minor": 5
}
